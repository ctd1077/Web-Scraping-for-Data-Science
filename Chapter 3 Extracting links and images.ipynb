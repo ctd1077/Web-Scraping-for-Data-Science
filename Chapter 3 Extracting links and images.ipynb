{
 "cells": [
  {
   "cell_type": "markdown",
   "metadata": {},
   "source": [
    "# Chapter 3 Extracting links and images"
   ]
  },
  {
   "cell_type": "code",
   "execution_count": 8,
   "metadata": {},
   "outputs": [],
   "source": [
    "import requests\n",
    "from bs4 import BeautifulSoup\n",
    "import urllib\n",
    "import urllib.request as request\n",
    "import re"
   ]
  },
  {
   "cell_type": "code",
   "execution_count": 9,
   "metadata": {},
   "outputs": [],
   "source": [
    "url = 'https://en.wikipedia.org/w/index.php' + \\\n",
    "'?title=List_of_Game_of_Thrones_episodes&oldid=802553687'"
   ]
  },
  {
   "cell_type": "code",
   "execution_count": 10,
   "metadata": {},
   "outputs": [],
   "source": [
    "r = requests.get(url)\n",
    "html_contents = r.text\n",
    "soup = BeautifulSoup(html_contents, 'html.parser')"
   ]
  },
  {
   "cell_type": "markdown",
   "metadata": {},
   "source": [
    "# Extracting images"
   ]
  },
  {
   "cell_type": "code",
   "execution_count": 16,
   "metadata": {},
   "outputs": [
    {
     "name": "stdout",
     "output_type": "stream",
     "text": [
      "https://upload.wikimedia.org/wikipedia/en/thumb/e/e7/Cscr-featured.svg/20px-Cscr-featured.svg.png\n",
      "https://upload.wikimedia.org/wikipedia/commons/thumb/2/2e/Game_of_Thrones_2011_logo.svg/300px-Game_of_Thrones_2011_logo.svg.png\n",
      "https://en.wikipedia.org//static/images/wikimedia-button.png\n",
      "https://en.wikipedia.org//static/images/poweredby_mediawiki_88x31.png\n"
     ]
    }
   ],
   "source": [
    "# Find all a tags in the soup \n",
    "for a in soup.find_all('a'):\n",
    "    # While looping through the text if you find img in 'a' tag\n",
    "    # Then print the src attribute\n",
    "    if a.img:\n",
    "        if a.img['src'][:2] == '//':\n",
    "            print('https:'+a.img['src'])\n",
    "        else:\n",
    "            print('https://en.wikipedia.org/'+a.img['src'])\n",
    "# And here are the images on the page"
   ]
  },
  {
   "cell_type": "markdown",
   "metadata": {},
   "source": [
    "### Create a folder on the desktop and try to run the \n",
    "### same loop but this time store the png file in the folder"
   ]
  },
  {
   "cell_type": "code",
   "execution_count": 17,
   "metadata": {},
   "outputs": [],
   "source": [
    "folder = r'/home/cambam/Desktop/links' + '//'"
   ]
  },
  {
   "cell_type": "code",
   "execution_count": 18,
   "metadata": {},
   "outputs": [],
   "source": [
    "# Save images to a folder\n",
    "for a in soup.find_all('a'):\n",
    "    if a.img:\n",
    "        if a.img['src'][:2] == '//':\n",
    "            request.urlretrieve('https:'+a.img['src'], folder + a.img['alt'] + '.PNG')\n",
    "        else:\n",
    "            request.urlretrieve('https://en.wikipedia.org/'+a.img['src'], folder + a.img['alt'] + '.PNG')"
   ]
  },
  {
   "cell_type": "markdown",
   "metadata": {},
   "source": [
    "# Extracting links"
   ]
  },
  {
   "cell_type": "code",
   "execution_count": 6,
   "metadata": {},
   "outputs": [
    {
     "name": "stdout",
     "output_type": "stream",
     "text": [
      "http://tv.ign.com/articles/116/1160215p1.html\n",
      "http://www.variety.com/article/VR1117957532.html?categoryid=14&cs=1\n",
      "http://www.emmys.com/shows/game-thrones\n",
      "http://travel.usatoday.com/destinations/story/2012-04-01/Where-the-HBO-hit-Game-of-Thrones-was-filmed/53876876/1\n",
      "http://blog.zap2it.com/frominsidethebox/2013/01/game-of-thrones-casts-a-bear-and-shoots-in-los-angeles-for-major-season-3-scene.html\n",
      "http://www.slate.com/articles/arts/culturebox/2012/03/game_of_thrones_how_hbo_and_showtime_make_money_despite_low_ratings_.html\n",
      "http://heavy.com/entertainment/2016/06/game-of-thrones-season-6-episode-9-air-time-channel-hbo-when-is-on-tonight-station-battle-of-the-bastards/\n",
      "http://www.hbo.com/search?q=Game%20of%20Thrones&type=schedule\n",
      "http://deadline.com/2016/04/game-of-thrones-renewed-season-6-veep-silicon-valley-hbo-1201741600/\n",
      "http://www.ew.com/article/2016/07/18/game-thrones-season-7\n",
      "http://www.ew.com/article/2016/07/30/game-thrones\n",
      "http://variety.com/2017/tv/news/game-of-thrones-sxsw-panel-2017-highlights-1202007386/\n",
      "http://tvseriesfinale.com/tv-show/game-of-thrones-season-two-ratings-22729/\n",
      "http://tvseriesfinale.com/tv-show/game-of-thrones-season-three-ratings-27711/\n",
      "http://tvseriesfinale.com/tv-show/game-of-thrones-season-four-ratings-32088/\n",
      "http://tvseriesfinale.com/tv-show/game-of-thrones-season-five-ratings-36234/\n",
      "http://tvseriesfinale.com/tv-show/game-thrones-season-six-ratings/\n",
      "http://tvbythenumbers.zap2it.com/more-tv-news/game-of-thrones-season-7-finale-smashes-more-records-for-hbo//\n",
      "http://www.thefutoncritic.com/showatch/game-of-thrones/listings/\n",
      "http://tvbythenumbers.zap2it.com/2011/04/19/sunday-cable-ratings-nba-storage-wars-ax-men-khloe-lamar-the-killing-breakout-kings-sam-axe-game-of-thrones-much-more/89980\n",
      "http://tvbythenumbers.zap2it.com/2011/04/26/sunday-cable-ratings-nba-khloe-lamar-the-killing-breakout-kings-housewives-game-of-thrones-much-more/90557\n",
      "http://tvbythenumbers.zap2it.com/2011/05/03/sunday-cable-ratings-more-death-of-bin-laden-ratings-khloe-lamar-law-order-ci-in-plain-sight-army-wives-housewives-game-of-thrones-much-more/91296\n",
      "http://tvbythenumbers.zap2it.com/2011/05/10/sunday-cable-ratings-bullshawks-tops-law-order-ci-in-plain-sight-army-wives-housewives-game-of-thrones-much-more/92058/\n",
      "http://tvbythenumbers.zap2it.com/2011/05/18/sunday-cable-ratings-heatbulls-slam-dunks-law-order-ci-in-plain-sight-army-wives-housewives-game-of-thrones-much-more/93124/\n",
      "http://tvbythenumbers.zap2it.com/2011/05/24/sunday-cable-ratings-heatbulls-scores-big-law-order-ci-in-plain-sight-army-wives-housewives-game-of-thrones-much-more/93748/\n",
      "http://tvbythenumbers.zap2it.com/2011/06/01/sunday-cable-ratings-my-big-fat-gypsy-wedding-breakout-kings-game-of-thrones-the-killing-more/94362/\n",
      "http://tvbythenumbers.zap2it.com/2011/06/07/sunday-cable-ratings-mtv-movie-awards-leads-night-game-of-thrones-series-high-real-housewives-abdc-lots-more/94914/\n",
      "http://tvbythenumbers.zap2it.com/2011/06/14/sunday-cable-ratings-game-of-thrones-real-housewives-kardashians-in-plain-sight-army-wives-more/95543/\n",
      "http://tvbythenumbers.zap2it.com/2011/06/21/sunday-cable-ratings-falling-skies-game-of-thrones-the-killing-in-plain-sight-law-order-ci-the-glades-and-much-more/96119/\n",
      "http://tvbythenumbers.zap2it.com/2012/04/03/sunday-cable-ratingsgame-of-thrones-returns-higher-khloe-lamar-the-killing-mad-menarmy-wives-more/127202/\n",
      "http://tvbythenumbers.zap2it.com/2012/04/10/sunday-cable-ratings-game-of-thrones-leads-atlanta-housewives-mad-men-khloe-lamar-army-wives-the-client-list-much-more/128221/\n",
      "http://tvbythenumbers.zap2it.com/2012/04/17/sunday-cable-ratings-game-of-thrones-real-housewives-atl-mad-men-khloe-lamar-the-client-list-more/129431/\n",
      "http://tvbythenumbers.zap2it.com/2012/04/24/sunday-cable-ratings-game-of-thrones-real-housewives-atl-mad-men-khloe-lamar-the-client-list-more-2/130469/\n",
      "http://tvbythenumbers.zap2it.com/2012/05/01/sunday-cable-ratings-game-of-thrones-rises-ties-nba-playoffs-real-housewives-the-client-list-army-wives-mad-men-more/131531/\n",
      "http://tvbythenumbers.zap2it.com/2012/05/08/sunday-cable-ratings-nba-playoffs-game-of-thrones-the-client-list-khloe-lamar-mad-men-more/132856//\n",
      "http://tvbythenumbers.zap2it.com/2012/05/15/sunday-cable-ratings-game-of-thrones-tops-real-housewives-nj-the-client-list-khloe-lamar-army-wives-more/134164/\n",
      "http://tvbythenumbers.zap2it.com/2012/05/22/sunday-cable-ratings-nba-playoffs-game-of-thrones-keeping-up-with-the-kardashians-ax-men-the-client-list-sister-wives-more/135295/\n",
      "http://tvbythenumbers.zap2it.com/2012/05/30/sunday-cable-ratings-nba-playoffs-win-night-game-of-thrones-mad-men-keeping-up-with-the-kardashians-girls-pawn-stars-more/136102/\n",
      "http://tvbythenumbers.zap2it.com/2012/06/05/sunday-cable-ratings-nba-playoffs-game-of-thrones-finale-mtv-movie-awards-sister-wives-the-glades-longmire-more/136802/\n",
      "http://tvbythenumbers.zap2it.com/2013/04/02/sunday-cable-ratings-the-walking-dead-wins-night-game-of-thrones-the-bible-vikings-shameless-the-client-list-more/175901/\n",
      "http://tvbythenumbers.zap2it.com/2013/04/09/sunday-cable-ratings-game-of-thrones-wins-night-real-housewives-of-atlanta-kourtney-kim-take-miami-vikings-mad-men-more/177076/\n",
      "http://tvbythenumbers.zap2it.com/2013/04/16/sunday-cable-ratings-game-of-thrones-wins-night-mtv-movie-awards-vikings-mad-menthe-client-list-veep-more/178049/\n",
      "http://tvbythenumbers.zap2it.com/2013/04/23/sunday-cable-ratings-game-of-thrones-wins-night-nba-playoffs-real-housewives-of-atlanta-vikings-more/179182/\n",
      "http://tvbythenumbers.zap2it.com/2013/04/30/sunday-cable-ratings-game-of-thrones-wins-night-nba-playoffs-vikings-the-client-list-mad-men-veep-more/180165/\n",
      "http://tvbythenumbers.zap2it.com/2013/05/07/sunday-cable-ratings-game-of-thrones-wins-night-ax-men-mad-men-army-wives-the-client-list-more/181265/\n",
      "http://tvbythenumbers.zap2it.com/2013/05/14/sunday-cable-ratings-game-of-thrones-wins-night-breaking-amish-mad-men-long-island-medium-river-monsters-more/182590/\n",
      "http://tvbythenumbers.zap2it.com/2013/05/21/sunday-cable-ratingsgame-of-thrones-wins-night-north-america-mad-men-veep-the-client-list-more/183402/\n",
      "http://tvbythenumbers.zap2it.com/2013/06/04/sunday-cable-ratings-game-of-thrones-wins-night-keeping-up-with-the-kardashians-real-housewives-of-new-jersey-breaking-amish-mad-men-more/185649/\n",
      "http://tvbythenumbers.zap2it.com/2013/06/11/sunday-cable-ratings-game-of-thrones-wins-night-falling-skies-mad-men-army-wives-veep-the-client-list-more-more/186683/\n",
      "http://tvbythenumbers.zap2it.com/2014/04/08/sunday-cable-ratings-game-of-thrones-wins-night-the-real-housewives-of-atlanta-silicon-valley-married-to-medicine-more/251918/\n",
      "http://tvbythenumbers.zap2it.com/2014/04/15/sunday-cable-ratings-game-of-thrones-wins-night-real-housewives-of-atlanta-mtv-movie-awards-silicon-valley-mad-men-drop-dead-diva-more/254110/\n",
      "http://tvbythenumbers.zap2it.com/2014/04/22/sunday-cable-ratings-game-of-thrones-wins-night-nba-playoffs-real-housewives-of-atlanta-naked-and-afraid-more/256183/\n",
      "http://tvbythenumbers.zap2it.com/2014/04/29/sunday-cable-ratings-game-of-thrones-wins-night-nba-playoffs-real-housewives-of-atlanta-mad-men-devious-maids-more/258458/\n",
      "http://tvbythenumbers.zap2it.com/2014/05/06/sunday-cable-ratings-game-of-thrones-wins-night-real-housewives-of-atlanta-married-to-medicine-silicon-valley-more/260613/\n",
      "http://tvbythenumbers.zap2it.com/2014/05/13/sunday-cable-ratings-game-of-thrones-wins-night-nba-playoffs-silicon-valley-bar-rescue-real-housewives-of-atlanta-mad-men-more/263258/\n",
      "http://tvbythenumbers.zap2it.com/2014/05/20/sunday-cable-ratings-game-of-thrones-wins-night-silicon-valley-real-housewives-of-atlanta-river-monsters-married-to-medicine-more/265704/\n",
      "http://tvbythenumbers.zap2it.com/2014/06/03/sunday-cable-ratings-game-of-thrones-wins-night-nhl-conference-finals-real-housewives-of-atlanta-kandis-wedding-silicon-valley-more/269702/\n",
      "http://tvbythenumbers.zap2it.com/2014/06/10/sunday-cable-ratings-game-of-thrones-wins-night-keeping-up-with-the-kardashians-devious-maids-veep-turn-more/271830/\n",
      "http://tvbythenumbers.zap2it.com/2014/06/17/sunday-cable-ratings-game-of-thrones-wins-night-world-cup-soccer-keeping-up-with-the-kardashians-nascar-more/274033/\n",
      "http://tvbythenumbers.zap2it.com/2015/04/14/sunday-cable-ratings-game-of-thrones-wins-night-silicon-valley-mtv-movie-awards-mad-men-veep-the-royals-more/388550/\n",
      "http://tvbythenumbers.zap2it.com/2015/04/21/sunday-cable-ratings-game-of-thrones-tops-night-nba-playoffs-real-housewives-of-atlanta-naked-and-afraid-more/392154/\n",
      "http://tvbythenumbers.zap2it.com/2015/04/28/sunday-cable-ratings-game-of-thrones-wins-night-nba-playoffs-real-housewives-of-atlanta-silicon-valley-mad-men-more/395207/\n",
      "http://tvbythenumbers.zap2it.com/2015/05/05/sunday-cable-ratings-game-of-thrones-tops-night-real-housewives-of-atlanta-silicon-valley-more/399327/\n",
      "http://tvbythenumbers.zap2it.com/2015/05/12/sunday-cable-ratings-game-of-thrones-wins-night-nba-playoffs-silicon-valley-mad-men-the-royals-veep-more/402701/\n",
      "http://tvbythenumbers.zap2it.com/2015/05/19/sunday-cable-ratings-game-of-thrones-tops-night-keeping-up-with-the-kardashians-mad-men-more/405665/\n",
      "http://tvbythenumbers.zap2it.com/2015/05/27/sunday-cable-ratings-nba-conference-finals-win-night-game-of-thrones-silicon-valley-keeping-up-with-the-kardashians-veep-more/408392/\n",
      "http://tvbythenumbers.zap2it.com/2015/06/02/sunday-cable-ratings-game-of-thrones-tops-night-keeping-up-with-the-kardashians-silicon-valley-naked-and-afraid-more/411032/\n",
      "http://tvbythenumbers.zap2it.com/2015/06/09/sunday-cable-ratings-game-of-thrones-wins-night-silicon-valley-naked-afraid-married-to-medicine-veep-more/414320/\n",
      "http://tvbythenumbers.zap2it.com/2015/06/16/sunday-cable-ratings-game-of-thrones-tops-night-silicon-valley-nascar-botched-more/417761/\n",
      "http://tvbythenumbers.zap2it.com/2016/04/26/sunday-cable-ratings-april-24-2016/\n",
      "http://tvbythenumbers.zap2it.com/2016/05/03/sunday-cable-ratings-may-1-2016/\n",
      "http://tvbythenumbers.zap2it.com/2016/05/10/sunday-cable-ratings-may-8-2016/\n",
      "http://tvbythenumbers.zap2it.com/2016/05/17/sunday-cable-ratings-game-of-thrones-rises-fear-the-walking-dead-falls/\n",
      "http://tvbythenumbers.zap2it.com/2016/05/24/sunday-cable-ratings-may-22-2016/\n",
      "http://tvbythenumbers.zap2it.com/2016/06/01/sunday-cable-ratings-may-29-2016/\n",
      "http://tvbythenumbers.zap2it.com/2016/06/07/sunday-cable-ratings-june-5-2016/\n",
      "http://tvbythenumbers.zap2it.com/2016/06/14/sunday-cable-ratings-june-12-2016/\n",
      "http://tvbythenumbers.zap2it.com/2016/06/21/sunday-cable-ratings-june-19-2016/\n",
      "http://tvbythenumbers.zap2it.com/2016/06/28/sunday-cable-ratings-june-26-2016/\n",
      "http://tvbythenumbers.zap2it.com/daily-ratings/game-of-thrones-scores-series-best-audience-with-season-7-premiere/\n",
      "http://tvbythenumbers.zap2it.com/daily-ratings/sunday-cable-ratings-july-23-2017/\n",
      "http://tvbythenumbers.zap2it.com/daily-ratings/sunday-cable-ratings-july-30-2017/\n",
      "http://tvbythenumbers.zap2it.com/daily-ratings/sunday-cable-ratings-aug-6-2017/\n",
      "http://tvbythenumbers.zap2it.com/daily-ratings/sunday-cable-ratings-aug-13-2017/\n",
      "http://tvbythenumbers.zap2it.com/daily-ratings/sunday-cable-ratings-aug-20-2017/\n",
      "http://tvbythenumbers.zap2it.com/daily-ratings/sunday-cable-ratings-aug-27-2017/\n",
      "http://www.tvshowsondvd.com/news/Game-Thrones-Season-1-Press-Release/16277\n",
      "http://www.tvshowsondvd.com/news/Game-Thrones-Season-2/17767\n",
      "http://tvshowsondvd.com/news/Game-Thrones-Season-3/18611\n",
      "http://www.tvshowsondvd.com/news/Game-Thrones-Season-4/20065\n",
      "http://www.tvshowsondvd.com/news/Game-Thrones-Season-7/23505\n",
      "http://www.hbo.com/game-of-thrones\n",
      "http://viewers-guide.hbo.com\n",
      "http://www.makinggameofthrones.com\n",
      "http://www.tv.com/shows/game-of-thrones/episodes/\n"
     ]
    }
   ],
   "source": [
    "# Find all a tags in the soup with the href attribute\n",
    "# The attrs agruement give a value to the href key in dic\n",
    "for a in soup.find_all('a', attrs={'href': re.compile(\"^http://\")}):\n",
    "        print(a.get('href'))\n",
    "# And here are the links on the page"
   ]
  },
  {
   "cell_type": "markdown",
   "metadata": {},
   "source": [
    "# Extract rating table from page"
   ]
  },
  {
   "cell_type": "code",
   "execution_count": 27,
   "metadata": {},
   "outputs": [],
   "source": [
    "# Couldn't finish this part. Looks like the website changed since the book was publish"
   ]
  }
 ],
 "metadata": {
  "kernelspec": {
   "display_name": "Python 3",
   "language": "python",
   "name": "python3"
  },
  "language_info": {
   "codemirror_mode": {
    "name": "ipython",
    "version": 3
   },
   "file_extension": ".py",
   "mimetype": "text/x-python",
   "name": "python",
   "nbconvert_exporter": "python",
   "pygments_lexer": "ipython3",
   "version": "3.7.3"
  }
 },
 "nbformat": 4,
 "nbformat_minor": 2
}
