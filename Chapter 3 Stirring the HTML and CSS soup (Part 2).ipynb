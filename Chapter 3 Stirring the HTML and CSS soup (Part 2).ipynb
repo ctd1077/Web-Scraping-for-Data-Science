{
 "cells": [
  {
   "cell_type": "code",
   "execution_count": 1,
   "metadata": {},
   "outputs": [],
   "source": [
    "# Chapter 3 Stirring the HTML and CSS soup (Part 2)"
   ]
  },
  {
   "cell_type": "code",
   "execution_count": 2,
   "metadata": {},
   "outputs": [],
   "source": [
    "import requests\n",
    "from bs4 import BeautifulSoup"
   ]
  },
  {
   "cell_type": "code",
   "execution_count": 3,
   "metadata": {},
   "outputs": [],
   "source": [
    "url = 'https://en.wikipedia.org/w/index.php' + \\\n",
    "'?title=List_of_Game_of_Thrones_episodes&oldid=802553687'"
   ]
  },
  {
   "cell_type": "code",
   "execution_count": 4,
   "metadata": {},
   "outputs": [],
   "source": [
    "r = requests.get(url)\n",
    "html_contents = r.text\n",
    "html_soup = BeautifulSoup(html_contents, 'html.parser')"
   ]
  },
  {
   "cell_type": "code",
   "execution_count": 5,
   "metadata": {},
   "outputs": [],
   "source": [
    "# We'll use a list to store our espisode list\n",
    "episodes = []"
   ]
  },
  {
   "cell_type": "code",
   "execution_count": 6,
   "metadata": {},
   "outputs": [],
   "source": [
    "ep_tables = html_soup.find_all('table', class_='wikiepisodetable')"
   ]
  },
  {
   "cell_type": "code",
   "execution_count": 7,
   "metadata": {},
   "outputs": [],
   "source": [
    "for table in ep_tables:\n",
    "    headers = []\n",
    "    rows = table.find_all('tr')"
   ]
  },
  {
   "cell_type": "code",
   "execution_count": 8,
   "metadata": {},
   "outputs": [
    {
     "name": "stdout",
     "output_type": "stream",
     "text": [
      "['No.overall', 'No. inseason', 'Title', 'Directed by', 'Written by', 'Original air date\\u200a[20]', 'U.S. viewers(millions)']\n"
     ]
    }
   ],
   "source": [
    "# Start by fetching the header cells from the first \n",
    "# row to determine the field names\n",
    "for header in table.find('tr').find_all('th'):\n",
    "    headers.append(header.text)\n",
    "print(headers)"
   ]
  },
  {
   "cell_type": "code",
   "execution_count": 14,
   "metadata": {},
   "outputs": [],
   "source": [
    "# Then go through all the rows except the first one\n",
    "for row in table.find_all('tr')[1:]: # Starts at the second row\n",
    "    values = []\n",
    "    # And get the column cells, the first one being inside a th-tag\n",
    "    for col in row.find_all(['th', 'td']):\n",
    "        values.append(col.text)\n",
    "    if values:\n",
    "        episode_dict = {headers[i]:values[i] for i in range(len(values))}\n",
    "        episodes.append(episode_dict)"
   ]
  },
  {
   "cell_type": "code",
   "execution_count": 15,
   "metadata": {},
   "outputs": [
    {
     "name": "stdout",
     "output_type": "stream",
     "text": [
      "{'No.overall': '61', 'No. inseason': '1', 'Title': '\"Dragonstone\"', 'Directed by': 'Jeremy Podeswa', 'Written by': 'David Benioff & D. B. Weiss', 'Original air date\\u200a[20]': 'July\\xa016,\\xa02017\\xa0(2017-07-16)', 'U.S. viewers(millions)': '10.11[81]'}\n",
      "{'No.overall': '62', 'No. inseason': '2', 'Title': '\"Stormborn\"', 'Directed by': 'Mark Mylod', 'Written by': 'Bryan Cogman', 'Original air date\\u200a[20]': 'July\\xa023,\\xa02017\\xa0(2017-07-23)', 'U.S. viewers(millions)': '9.27[82]'}\n",
      "{'No.overall': '63', 'No. inseason': '3', 'Title': '\"The Queen\\'s Justice\"', 'Directed by': 'Mark Mylod', 'Written by': 'David Benioff & D. B. Weiss', 'Original air date\\u200a[20]': 'July\\xa030,\\xa02017\\xa0(2017-07-30)', 'U.S. viewers(millions)': '9.25[83]'}\n",
      "{'No.overall': '64', 'No. inseason': '4', 'Title': '\"The Spoils of War\"', 'Directed by': 'Matt Shakman', 'Written by': 'David Benioff & D. B. Weiss', 'Original air date\\u200a[20]': 'August\\xa06,\\xa02017\\xa0(2017-08-06)', 'U.S. viewers(millions)': '10.17[84]'}\n",
      "{'No.overall': '65', 'No. inseason': '5', 'Title': '\"Eastwatch\"', 'Directed by': 'Matt Shakman', 'Written by': 'Dave Hill', 'Original air date\\u200a[20]': 'August\\xa013,\\xa02017\\xa0(2017-08-13)', 'U.S. viewers(millions)': '10.72[85]'}\n",
      "{'No.overall': '66', 'No. inseason': '6', 'Title': '\"Beyond the Wall\"', 'Directed by': 'Alan Taylor', 'Written by': 'David Benioff & D. B. Weiss', 'Original air date\\u200a[20]': 'August\\xa020,\\xa02017\\xa0(2017-08-20)', 'U.S. viewers(millions)': '10.24[86]'}\n",
      "{'No.overall': '67', 'No. inseason': '7', 'Title': '\"The Dragon and the Wolf\"', 'Directed by': 'Jeremy Podeswa', 'Written by': 'David Benioff & D. B. Weiss', 'Original air date\\u200a[20]': 'August\\xa027,\\xa02017\\xa0(2017-08-27)', 'U.S. viewers(millions)': '12.07[87]'}\n",
      "{'No.overall': '61', 'No. inseason': '1', 'Title': '\"Dragonstone\"', 'Directed by': 'Jeremy Podeswa', 'Written by': 'David Benioff & D. B. Weiss', 'Original air date\\u200a[20]': 'July\\xa016,\\xa02017\\xa0(2017-07-16)', 'U.S. viewers(millions)': '10.11[81]'}\n",
      "{'No.overall': '62', 'No. inseason': '2', 'Title': '\"Stormborn\"', 'Directed by': 'Mark Mylod', 'Written by': 'Bryan Cogman', 'Original air date\\u200a[20]': 'July\\xa023,\\xa02017\\xa0(2017-07-23)', 'U.S. viewers(millions)': '9.27[82]'}\n",
      "{'No.overall': '63', 'No. inseason': '3', 'Title': '\"The Queen\\'s Justice\"', 'Directed by': 'Mark Mylod', 'Written by': 'David Benioff & D. B. Weiss', 'Original air date\\u200a[20]': 'July\\xa030,\\xa02017\\xa0(2017-07-30)', 'U.S. viewers(millions)': '9.25[83]'}\n",
      "{'No.overall': '64', 'No. inseason': '4', 'Title': '\"The Spoils of War\"', 'Directed by': 'Matt Shakman', 'Written by': 'David Benioff & D. B. Weiss', 'Original air date\\u200a[20]': 'August\\xa06,\\xa02017\\xa0(2017-08-06)', 'U.S. viewers(millions)': '10.17[84]'}\n",
      "{'No.overall': '65', 'No. inseason': '5', 'Title': '\"Eastwatch\"', 'Directed by': 'Matt Shakman', 'Written by': 'Dave Hill', 'Original air date\\u200a[20]': 'August\\xa013,\\xa02017\\xa0(2017-08-13)', 'U.S. viewers(millions)': '10.72[85]'}\n",
      "{'No.overall': '66', 'No. inseason': '6', 'Title': '\"Beyond the Wall\"', 'Directed by': 'Alan Taylor', 'Written by': 'David Benioff & D. B. Weiss', 'Original air date\\u200a[20]': 'August\\xa020,\\xa02017\\xa0(2017-08-20)', 'U.S. viewers(millions)': '10.24[86]'}\n",
      "{'No.overall': '67', 'No. inseason': '7', 'Title': '\"The Dragon and the Wolf\"', 'Directed by': 'Jeremy Podeswa', 'Written by': 'David Benioff & D. B. Weiss', 'Original air date\\u200a[20]': 'August\\xa027,\\xa02017\\xa0(2017-08-27)', 'U.S. viewers(millions)': '12.07[87]'}\n"
     ]
    }
   ],
   "source": [
    "# Show the results\n",
    "for episode in episodes:\n",
    "    print(episode)"
   ]
  },
  {
   "cell_type": "code",
   "execution_count": null,
   "metadata": {},
   "outputs": [],
   "source": [
    "https://en.wikipedia.org/w/index.php?title=List_of_Game_of_Thrones_episodes&oldid=802553687"
   ]
  },
  {
   "cell_type": "code",
   "execution_count": null,
   "metadata": {},
   "outputs": [],
   "source": []
  },
  {
   "cell_type": "code",
   "execution_count": null,
   "metadata": {},
   "outputs": [],
   "source": []
  },
  {
   "cell_type": "code",
   "execution_count": null,
   "metadata": {},
   "outputs": [],
   "source": []
  },
  {
   "cell_type": "code",
   "execution_count": null,
   "metadata": {},
   "outputs": [],
   "source": []
  },
  {
   "cell_type": "code",
   "execution_count": null,
   "metadata": {},
   "outputs": [],
   "source": []
  },
  {
   "cell_type": "code",
   "execution_count": null,
   "metadata": {},
   "outputs": [],
   "source": []
  },
  {
   "cell_type": "code",
   "execution_count": null,
   "metadata": {},
   "outputs": [],
   "source": []
  },
  {
   "cell_type": "code",
   "execution_count": null,
   "metadata": {},
   "outputs": [],
   "source": []
  },
  {
   "cell_type": "code",
   "execution_count": null,
   "metadata": {},
   "outputs": [],
   "source": []
  },
  {
   "cell_type": "code",
   "execution_count": null,
   "metadata": {},
   "outputs": [],
   "source": []
  },
  {
   "cell_type": "code",
   "execution_count": null,
   "metadata": {},
   "outputs": [],
   "source": []
  },
  {
   "cell_type": "code",
   "execution_count": null,
   "metadata": {},
   "outputs": [],
   "source": []
  },
  {
   "cell_type": "code",
   "execution_count": null,
   "metadata": {},
   "outputs": [],
   "source": []
  }
 ],
 "metadata": {
  "kernelspec": {
   "display_name": "Python 3",
   "language": "python",
   "name": "python3"
  },
  "language_info": {
   "codemirror_mode": {
    "name": "ipython",
    "version": 3
   },
   "file_extension": ".py",
   "mimetype": "text/x-python",
   "name": "python",
   "nbconvert_exporter": "python",
   "pygments_lexer": "ipython3",
   "version": "3.7.3"
  }
 },
 "nbformat": 4,
 "nbformat_minor": 2
}
